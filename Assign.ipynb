{
 "cells": [
  {
   "cell_type": "markdown",
   "metadata": {},
   "source": [
    "<H2>Conditional Statement</H2>\n",
    "1. Program to check even or odd.. Asking the number"
   ]
  },
  {
   "cell_type": "code",
   "execution_count": 4,
   "metadata": {},
   "outputs": [
    {
     "name": "stdout",
     "output_type": "stream",
     "text": [
      "3 is odd\n"
     ]
    }
   ],
   "source": [
    "a = int(input(\"Enter a no.\"))\n",
    "if a%2 != 0:\n",
    "   print(f\"{a} is odd\")\n",
    "elif a%2 == 0:\n",
    "   print(f\"{a} is even\") \n",
    "else:\n",
    "   print(\"none\")\n",
    "\n"
   ]
  },
  {
   "cell_type": "markdown",
   "metadata": {},
   "source": [
    "\n",
    "2. Write a program that asks the user to enter a number and checks whether it is positive, negative, or zero.\n"
   ]
  },
  {
   "cell_type": "code",
   "execution_count": 7,
   "metadata": {},
   "outputs": [
    {
     "name": "stdout",
     "output_type": "stream",
     "text": [
      "it is negative\n"
     ]
    }
   ],
   "source": [
    "a = int(input(\"enter a number\"))\n",
    "if a == 0:\n",
    "    print(\"it is a zero\")\n",
    "elif a>0:\n",
    "    print (\"it is positive\")\n",
    "else:\n",
    "    print(\"it is negative\")"
   ]
  },
  {
   "cell_type": "markdown",
   "metadata": {},
   "source": [
    "3. Write a program that asks the user to enter their age and checks if they are eligible to vote (18 years or older)."
   ]
  },
  {
   "cell_type": "code",
   "execution_count": 8,
   "metadata": {},
   "outputs": [
    {
     "name": "stdout",
     "output_type": "stream",
     "text": [
      "U are not eligible to vote\n"
     ]
    }
   ],
   "source": [
    "a = int(input(\"enter your age\"))\n",
    "if a > 18:\n",
    "    print(\"you are eligible to vote\")\n",
    "else:\n",
    "    print(\"U are not eligible to vote\")"
   ]
  },
  {
   "cell_type": "markdown",
   "metadata": {},
   "source": [
    "4. Write a program that takes the lengths of three sides of a triangle as input and determines if the triangle is:\n",
    "<br>○ Equilateral (all sides are equal)\n",
    "<br>○ Isosceles (two sides are equal)\n",
    "<br>○ Scalene (all sides are different)\n"
   ]
  },
  {
   "cell_type": "code",
   "execution_count": 15,
   "metadata": {},
   "outputs": [
    {
     "name": "stdout",
     "output_type": "stream",
     "text": [
      "Triangle with sides 3, 6 & 3 is an isosceles triangle\n"
     ]
    }
   ],
   "source": [
    "a = int(input(\"enter the length of a side of a triangle \"))\n",
    "b = int(input(\"enter the length of another side of a triangle \"))\n",
    "c = int(input(\"enter the length of other side of a triangle \"))\n",
    "\n",
    "if a == b == c:\n",
    "    print(f\"Triangle with sides {a}, {b} & {c} is an equilateral triangle\")\n",
    "elif a == b or a == c or b == c :\n",
    "    print(f\"Triangle with sides {a}, {b} & {c} is an isosceles triangle\")\n",
    "else :\n",
    "    print(f\"ITriangle with sides {a}, {b} &{c} is a Scalene triangle\")\n"
   ]
  },
  {
   "cell_type": "markdown",
   "metadata": {},
   "source": [
    "Write a program that asks the user to enter a password and checks if it matches a predefined password (e.g., \"Python123\").\n"
   ]
  },
  {
   "cell_type": "code",
   "execution_count": 13,
   "metadata": {},
   "outputs": [
    {
     "name": "stdout",
     "output_type": "stream",
     "text": [
      "python 1234 is an incorrect password\n"
     ]
    }
   ],
   "source": [
    "a = input(\"enter your password\")\n",
    "b = \"python1234\"\n",
    "if a == b:\n",
    "    print(f\"{a} is the correct password\")\n",
    "else:\n",
    "    print(f\"{a} is an incorrect password\")"
   ]
  },
  {
   "cell_type": "markdown",
   "metadata": {},
   "source": [
    "<h3>Section 2: Loops<h3>\n"
   ]
  },
  {
   "cell_type": "markdown",
   "metadata": {},
   "source": [
    "6. Multiplication Table: Write a Python program to print the \n",
    "multiplication table of a given number using a for loop. <br>\n",
    "Example:<br>\n",
    "○ Input: 5<br>\n",
    "○ Output: 5, 10, 15, ..., 50"
   ]
  },
  {
   "cell_type": "code",
   "execution_count": 21,
   "metadata": {},
   "outputs": [
    {
     "name": "stdout",
     "output_type": "stream",
     "text": [
      "5\n",
      "10\n",
      "15\n",
      "20\n",
      "25\n",
      "30\n",
      "35\n",
      "40\n",
      "45\n",
      "50\n"
     ]
    }
   ],
   "source": [
    "a = 5\n",
    "\n",
    "for i in range(1, 11):\n",
    "    print(a*i)"
   ]
  },
  {
   "cell_type": "markdown",
   "metadata": {},
   "source": [
    "7. Count Vowels: Write a program to count and display the number of vowels in a given string."
   ]
  },
  {
   "cell_type": "code",
   "execution_count": 23,
   "metadata": {},
   "outputs": [
    {
     "name": "stdout",
     "output_type": "stream",
     "text": [
      "the number of vowels in the input is 4\n"
     ]
    }
   ],
   "source": [
    "a = input(\"enter a prompt\")\n",
    "b = \"aeriouAEIOU\"\n",
    "\n",
    "count = 0\n",
    "for char in a:\n",
    "    if char in b:\n",
    "        count += 1\n",
    "print(f\"the number of vowels in the input is {count}\")\n",
    "\n"
   ]
  },
  {
   "cell_type": "markdown",
   "metadata": {},
   "source": [
    "8. Sum of Even Numbers Create a program to find the sum of all even \n",
    "numbers in a list using a for loop.<br>\n",
    "Example:<br>\n",
    "○ Input: [2, 5, 8, 3]<br>\n",
    "○ Output: 10"
   ]
  },
  {
   "cell_type": "code",
   "execution_count": 24,
   "metadata": {},
   "outputs": [
    {
     "name": "stdout",
     "output_type": "stream",
     "text": [
      "the sum of even numbers is 10\n"
     ]
    }
   ],
   "source": [
    "Numbers = [2,3,8,3]\n",
    "sum = 0\n",
    "\n",
    "for a in Numbers:\n",
    "    if a%2 == 0:\n",
    "        sum += a\n",
    "\n",
    "print(f\"the sum of even numbers is {sum}\")\n",
    "\n",
    "\n"
   ]
  },
  {
   "cell_type": "markdown",
   "metadata": {},
   "source": [
    "9. Create a program to find the largest and smallest numbers in a list using a for loop. <br>\n",
    "Example:<br>\n",
    "○ Input = [10, 20, 5, 8], Output = Largest = 20, Smallest = 5\n"
   ]
  },
  {
   "cell_type": "code",
   "execution_count": 27,
   "metadata": {},
   "outputs": [
    {
     "name": "stdout",
     "output_type": "stream",
     "text": [
      "largest = 20, smallest = 5\n"
     ]
    }
   ],
   "source": [
    "numbers = [10, 20, 5, 8]\n",
    "largest = numbers[0]\n",
    "smallest = numbers[0]\n",
    "for num in numbers:\n",
    "    if num > largest:\n",
    "        largest = num\n",
    "    if num < smallest:\n",
    "        smallest = num\n",
    "\n",
    "print(f\"largest = {largest}, smallest = {smallest}\")\n"
   ]
  },
  {
   "cell_type": "markdown",
   "metadata": {},
   "source": [
    "\n",
    "10. Sum of Digits"
   ]
  },
  {
   "cell_type": "code",
   "execution_count": 2,
   "metadata": {},
   "outputs": [
    {
     "name": "stdout",
     "output_type": "stream",
     "text": [
      "The sum of the digits is: 9\n"
     ]
    }
   ],
   "source": [
    "# Program to calculate the sum of digits of a number\n",
    "number = int(input(\"Enter a number: \"))\n",
    "sum_of_digits = 0\n",
    "\n",
    "for digit in str(number):\n",
    "    sum_of_digits += int(digit)\n",
    "\n",
    "print(f\"The sum of the digits is: {sum_of_digits}\")"
   ]
  },
  {
   "cell_type": "markdown",
   "metadata": {},
   "source": [
    "11. Reverse a String"
   ]
  },
  {
   "cell_type": "code",
   "execution_count": 4,
   "metadata": {},
   "outputs": [
    {
     "name": "stdout",
     "output_type": "stream",
     "text": [
      "The reversed string is: oreh racecar eye\n"
     ]
    }
   ],
   "source": [
    "# Program to reverse a string\n",
    "string = input(\"Enter a string: \")\n",
    "reversed_string = \"\"\n",
    "\n",
    "for char in string:\n",
    "    reversed_string = char + reversed_string\n",
    "\n",
    "print(f\"The reversed string is: {reversed_string}\")\n"
   ]
  },
  {
   "cell_type": "markdown",
   "metadata": {},
   "source": [
    "<h3>Section 3: Functions</h3>\n",
    "1. Factorial Function"
   ]
  },
  {
   "cell_type": "code",
   "execution_count": 5,
   "metadata": {},
   "outputs": [
    {
     "name": "stdout",
     "output_type": "stream",
     "text": [
      "120\n"
     ]
    }
   ],
   "source": [
    "def factorial(n):\n",
    "    result = 1\n",
    "    for i in range(1, n + 1):\n",
    "        result *= i\n",
    "    return result\n",
    "\n",
    "print(factorial(5))  \n"
   ]
  },
  {
   "cell_type": "markdown",
   "metadata": {},
   "source": [
    "2. Prime Check Function"
   ]
  },
  {
   "cell_type": "code",
   "execution_count": 6,
   "metadata": {},
   "outputs": [
    {
     "name": "stdout",
     "output_type": "stream",
     "text": [
      "True\n"
     ]
    }
   ],
   "source": [
    "def is_prime(n):\n",
    "    if n <= 1:\n",
    "        return False\n",
    "    for i in range(2, int(n**0.5) + 1):\n",
    "        if n % i == 0:\n",
    "            return False\n",
    "    return True\n",
    "\n",
    "print(is_prime(7))  \n"
   ]
  },
  {
   "cell_type": "markdown",
   "metadata": {},
   "source": [
    "3. Find Maximum in List"
   ]
  },
  {
   "cell_type": "code",
   "execution_count": 7,
   "metadata": {},
   "outputs": [
    {
     "name": "stdout",
     "output_type": "stream",
     "text": [
      "7\n"
     ]
    }
   ],
   "source": [
    "def find_max(lst):\n",
    "    max_value = lst[0]\n",
    "    for num in lst:\n",
    "        if num > max_value:\n",
    "            max_value = num\n",
    "    return max_value\n",
    "\n",
    "print(find_max([1, 3, 7, 0])) \n"
   ]
  },
  {
   "cell_type": "markdown",
   "metadata": {},
   "source": [
    "4. Palindrome Check"
   ]
  },
  {
   "cell_type": "code",
   "execution_count": 8,
   "metadata": {},
   "outputs": [
    {
     "name": "stdout",
     "output_type": "stream",
     "text": [
      "True\n"
     ]
    }
   ],
   "source": [
    "def palindrome_check(string):\n",
    "    return string == string[::-1]\n",
    "\n",
    "print(palindrome_check(\"radar\"))  \n"
   ]
  },
  {
   "cell_type": "markdown",
   "metadata": {},
   "source": [
    "5. Sum of Squares"
   ]
  },
  {
   "cell_type": "code",
   "execution_count": 9,
   "metadata": {},
   "outputs": [
    {
     "name": "stdout",
     "output_type": "stream",
     "text": [
      "14\n"
     ]
    }
   ],
   "source": [
    "def sum_of_squares(n):\n",
    "    return sum(i**2 for i in range(1, n + 1))\n",
    "\n",
    "print(sum_of_squares(3))  \n"
   ]
  },
  {
   "cell_type": "markdown",
   "metadata": {},
   "source": [
    "<h3>Section 4: Classes</h3>\n",
    "1. Rectangle Class"
   ]
  },
  {
   "cell_type": "code",
   "execution_count": 3,
   "metadata": {},
   "outputs": [
    {
     "name": "stdout",
     "output_type": "stream",
     "text": [
      "15\n",
      "16\n"
     ]
    }
   ],
   "source": [
    "class Rectangle:\n",
    "    def __init__(self, length, width):\n",
    "        self.length = length\n",
    "        self.width = width\n",
    "\n",
    "    def area(self):\n",
    "        return self.length * self.width\n",
    "    def perimeter(self):\n",
    "        return 2 * (self.length + self.width)\n",
    "    \n",
    "rect = Rectangle(5, 3)\n",
    "\n",
    "print(rect.area())\n",
    "print(rect.perimeter())\n",
    "    \n",
    "\n"
   ]
  },
  {
   "cell_type": "markdown",
   "metadata": {},
   "source": [
    "2. Student Class"
   ]
  },
  {
   "cell_type": "code",
   "execution_count": 8,
   "metadata": {},
   "outputs": [
    {
     "name": "stdout",
     "output_type": "stream",
     "text": [
      "Name: Awishkar, Roll Number: 50, Marks: 75\n",
      "True\n"
     ]
    }
   ],
   "source": [
    "class Student:\n",
    "    def __init__(self, name, roll_number, marks):\n",
    "        self.name = name\n",
    "        self.roll_number = roll_number\n",
    "        self.marks = marks\n",
    "\n",
    "    def display_details(self):\n",
    "        print(f\"Name: {self.name}, Roll Number: {self.roll_number}, Marks: {self.marks}\")\n",
    "\n",
    "    def is_passed(self):\n",
    "        return self.marks >= 40\n",
    "\n",
    "student = Student(\"Awishkar\", 50, 75)\n",
    "\n",
    "student.display_details()\n",
    "\n",
    "print(student.is_passed())\n"
   ]
  },
  {
   "cell_type": "markdown",
   "metadata": {},
   "source": [
    "3. Circle Class"
   ]
  },
  {
   "cell_type": "code",
   "execution_count": 9,
   "metadata": {},
   "outputs": [
    {
     "name": "stdout",
     "output_type": "stream",
     "text": [
      "50.24\n",
      "25.12\n"
     ]
    }
   ],
   "source": [
    "class Circle:\n",
    "    def __init__(self, radius):\n",
    "        self.radius = radius\n",
    "\n",
    "    def area(self):\n",
    "        return 3.14 * self.radius ** 2\n",
    "\n",
    "    def circumference(self):\n",
    "        return 2 * 3.14 * self.radius\n",
    "\n",
    "circle = Circle(4)\n",
    "\n",
    "print(circle.area())\n",
    "print(circle.circumference())\n"
   ]
  },
  {
   "cell_type": "markdown",
   "metadata": {},
   "source": [
    "4. BankAccount Class"
   ]
  },
  {
   "cell_type": "code",
   "execution_count": 15,
   "metadata": {},
   "outputs": [
    {
     "name": "stdout",
     "output_type": "stream",
     "text": [
      "Insufficient balance!\n",
      "Current Balance: 25000\n"
     ]
    }
   ],
   "source": [
    "class BankAccount:\n",
    "    def __init__(self, account_number, account_holder, balance=0):\n",
    "        self.account_number = account_number\n",
    "        self.account_holder = account_holder\n",
    "        self.balance = balance\n",
    "\n",
    "    def deposit(self, amount):\n",
    "        self.balance += amount\n",
    "\n",
    "    def withdraw(self, amount):\n",
    "        if amount > self.balance:\n",
    "            print(\"Insufficient balance!\")\n",
    "        else:\n",
    "            self.balance -= amount\n",
    "\n",
    "    def display_balance(self):\n",
    "        print(f\"Current Balance: {self.balance}\")\n",
    "\n",
    "# Create a bank account\n",
    "bank = BankAccount(25, \"Awishkar\", 20000)\n",
    "\n",
    "#use it\n",
    "bank.deposit(5000)\n",
    "bank.withdraw(150000)\n",
    "\n",
    "# Display the current balance\n",
    "bank.display_balance()  \n",
    "\n"
   ]
  },
  {
   "cell_type": "markdown",
   "metadata": {},
   "source": [
    "5. Book Class"
   ]
  },
  {
   "cell_type": "code",
   "execution_count": 17,
   "metadata": {},
   "outputs": [
    {
     "name": "stdout",
     "output_type": "stream",
     "text": [
      "Title: Sanovai ko guff, Author: chutkila wala bhai, Price: 450.0\n"
     ]
    }
   ],
   "source": [
    "class Book:\n",
    "    def __init__(self, title, author, price):\n",
    "        self.title = title\n",
    "        self.author = author\n",
    "        self.price = price\n",
    "\n",
    "    def apply_discount(self, discount):\n",
    "        self.price -= self.price * (discount / 100)\n",
    "\n",
    "    def display_details(self):\n",
    "        print(f\"Title: {self.title}, Author: {self.author}, Price: {self.price}\")\n",
    "\n",
    "# Create an instance of the Book class\n",
    "book = Book(\"Sanovai ko guff\", \"chutkila wala bhai\", 500)\n",
    "\n",
    "# Apply a discount\n",
    "book.apply_discount(10)\n",
    "\n",
    "# Display the details of the book\n",
    "book.display_details()\n"
   ]
  },
  {
   "cell_type": "markdown",
   "metadata": {},
   "source": [
    "6. Calculator Class"
   ]
  },
  {
   "cell_type": "code",
   "execution_count": 21,
   "metadata": {},
   "outputs": [
    {
     "name": "stdout",
     "output_type": "stream",
     "text": [
      "110\n",
      "-10\n",
      "3000\n",
      "Division by zero is not allowed\n"
     ]
    }
   ],
   "source": [
    "class Calculator:\n",
    "    def add(self, a, b):\n",
    "        return a + b\n",
    "\n",
    "    def subtract(self, a, b):\n",
    "        return a - b\n",
    "\n",
    "    def multiply(self, a, b):\n",
    "        return a * b\n",
    "\n",
    "    def divide(self, a, b):\n",
    "        try:\n",
    "            return a / b\n",
    "        except ZeroDivisionError:\n",
    "            return \"Division by zero is not allowed\"\n",
    "\n",
    "# Create an instance of Calculator\n",
    "calc = Calculator()\n",
    "\n",
    "\n",
    "print(calc.add(50, 60))        \n",
    "print(calc.subtract(50, 60))   \n",
    "print(calc.multiply(50, 60))    \n",
    "print(calc.divide(50, 0))      \n",
    "\n"
   ]
  },
  {
   "cell_type": "markdown",
   "metadata": {},
   "source": [
    "7. Person and Employee Classes"
   ]
  },
  {
   "cell_type": "code",
   "execution_count": 23,
   "metadata": {},
   "outputs": [
    {
     "name": "stdout",
     "output_type": "stream",
     "text": [
      "Hello, my name is She, I am 30 years old, and I am a Female.\n",
      "Hello, my name is Awishkar, I am 35 years old, I am a Male, and I work as a Software Developer.\n"
     ]
    }
   ],
   "source": [
    "class Person:\n",
    "    def __init__(self, name, age, gender):\n",
    "        self.name = name\n",
    "        self.age = age\n",
    "        self.gender = gender\n",
    "\n",
    "    def introduce(self):\n",
    "        print(f\"Hello, my name is {self.name}, I am {self.age} years old, and I am a {self.gender}.\")\n",
    "\n",
    "class Employee(Person):\n",
    "    def __init__(self, name, age, gender, job_title):\n",
    "        super().__init__(name, age, gender)\n",
    "        self.job_title = job_title\n",
    "\n",
    "    def introduce(self):\n",
    "        print(f\"Hello, my name is {self.name}, I am {self.age} years old, I am a {self.gender}, and I work as a {self.job_title}.\")\n",
    "\n",
    "# Create a Person instance\n",
    "person = Person(\"She\", 30, \"Female\")\n",
    "person.introduce()\n",
    "\n",
    "# Create an Employee instance\n",
    "employee = Employee(\"Awishkar\", 35, \"Male\", \"Software Developer\")\n",
    "employee.introduce()\n",
    "\n"
   ]
  },
  {
   "cell_type": "markdown",
   "metadata": {},
   "source": [
    "<h3>Section 4: File Handling</h3>\n",
    "1. File Creation and Writing"
   ]
  },
  {
   "cell_type": "code",
   "execution_count": 22,
   "metadata": {},
   "outputs": [
    {
     "name": "stdout",
     "output_type": "stream",
     "text": [
      "1\n",
      "2\n",
      "3\n",
      "4\n",
      "5\n",
      "6\n",
      "7\n",
      "8\n",
      "9\n",
      "10\n",
      "\n"
     ]
    }
   ],
   "source": [
    "# Create and write to the file\n",
    "with open(\"data.txt\", \"w\") as file:\n",
    "    for i in range(1, 11):\n",
    "        file.write(f\"{i}\\n\")\n",
    "\n",
    "# Read and print the file contents\n",
    "with open(\"data.txt\", \"r\") as file:\n",
    "    print(file.read())\n"
   ]
  },
  {
   "cell_type": "markdown",
   "metadata": {},
   "source": [
    "2. Word Count in File"
   ]
  },
  {
   "cell_type": "code",
   "execution_count": 24,
   "metadata": {},
   "outputs": [
    {
     "name": "stdout",
     "output_type": "stream",
     "text": [
      "The number of words in the file is: 10\n"
     ]
    }
   ],
   "source": [
    "with open(\"data.txt\", \"r\") as file:\n",
    "    content = file.read()\n",
    "    word_count = len(content.split())\n",
    "    print(f\"The number of words in the file is: {word_count}\")\n"
   ]
  },
  {
   "cell_type": "markdown",
   "metadata": {},
   "source": [
    "<h3>Section 5: Error Handling</h3>\n",
    "1. Division with Error Handling"
   ]
  },
  {
   "cell_type": "code",
   "execution_count": 20,
   "metadata": {},
   "outputs": [
    {
     "name": "stdout",
     "output_type": "stream",
     "text": [
      "Error: Division by zero is not allowed.\n"
     ]
    }
   ],
   "source": [
    "try:\n",
    "    a = float(input(\"Enter the first number: \"))\n",
    "    b = float(input(\"Enter the second number: \"))\n",
    "    result = a / b\n",
    "    print(f\"Result: {result}\")\n",
    "except ZeroDivisionError:\n",
    "    print(\"Error: Division by zero is not allowed.\")\n"
   ]
  },
  {
   "cell_type": "markdown",
   "metadata": {},
   "source": [
    "2. Integer Input Validation"
   ]
  },
  {
   "cell_type": "code",
   "execution_count": 18,
   "metadata": {},
   "outputs": [
    {
     "name": "stdout",
     "output_type": "stream",
     "text": [
      "Invalid input, please enter an integer.\n"
     ]
    }
   ],
   "source": [
    "try:\n",
    "    number = int(input(\"Enter an integer: \"))\n",
    "    print(f\"You entered: {number}\")\n",
    "except ValueError:\n",
    "    print(\"Invalid input, please enter an integer.\")\n"
   ]
  },
  {
   "cell_type": "markdown",
   "metadata": {},
   "source": [
    "3. File Not Found Error Handling"
   ]
  },
  {
   "cell_type": "code",
   "execution_count": 17,
   "metadata": {},
   "outputs": [
    {
     "name": "stdout",
     "output_type": "stream",
     "text": [
      "Error: The file 'unknown.txt' was not found.\n"
     ]
    }
   ],
   "source": [
    "try:\n",
    "    with open(\"unknown.txt\", \"r\") as file:\n",
    "        print(file.read())\n",
    "except FileNotFoundError:\n",
    "    print(\"Error: The file 'unknown.txt' was not found.\")\n"
   ]
  }
 ],
 "metadata": {
  "kernelspec": {
   "display_name": "Python 3",
   "language": "python",
   "name": "python3"
  },
  "language_info": {
   "codemirror_mode": {
    "name": "ipython",
    "version": 3
   },
   "file_extension": ".py",
   "mimetype": "text/x-python",
   "name": "python",
   "nbconvert_exporter": "python",
   "pygments_lexer": "ipython3",
   "version": "3.13.0"
  }
 },
 "nbformat": 4,
 "nbformat_minor": 2
}
